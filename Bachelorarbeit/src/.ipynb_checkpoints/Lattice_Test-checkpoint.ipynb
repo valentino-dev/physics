{
 "cells": [
  {
   "cell_type": "code",
   "execution_count": 1,
   "id": "13bb67d5-74d5-41e4-882f-125f5c7ab6ad",
   "metadata": {},
   "outputs": [
    {
     "name": "stdout",
     "output_type": "stream",
     "text": [
      "Hello\n"
     ]
    }
   ],
   "source": [
    "print(\"Hello\")"
   ]
  }
 ],
 "metadata": {
  "kernelspec": {
   "display_name": "minormainenv",
   "language": "python",
   "name": "minormainenv"
  },
  "language_info": {
   "codemirror_mode": {
    "name": "ipython",
    "version": 3
   },
   "file_extension": ".py",
   "mimetype": "text/x-python",
   "name": "python",
   "nbconvert_exporter": "python",
   "pygments_lexer": "ipython3",
   "version": "3.9.20"
  }
 },
 "nbformat": 4,
 "nbformat_minor": 5
}
